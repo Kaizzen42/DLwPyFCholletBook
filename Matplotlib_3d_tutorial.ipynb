{
 "cells": [
  {
   "cell_type": "code",
   "execution_count": null,
   "metadata": {},
   "outputs": [],
   "source": []
  }
 ],
 "metadata": {
  "interpreter": {
   "hash": "339907dc50ae7c95a994a590d2e86c30ce6d69b18743aa1a1a315b8d80cedf51"
  },
  "kernelspec": {
   "display_name": "Python 3.8.12 ('tensorflow_base')",
   "language": "python",
   "name": "python3"
  },
  "language_info": {
   "name": "python",
   "version": "3.8.12"
  },
  "orig_nbformat": 4
 },
 "nbformat": 4,
 "nbformat_minor": 2
}
