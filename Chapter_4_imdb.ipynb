{
 "cells": [
  {
   "cell_type": "code",
   "execution_count": 27,
   "metadata": {},
   "outputs": [],
   "source": [
    "import tensorflow as tf"
   ]
  },
  {
   "cell_type": "code",
   "execution_count": 28,
   "metadata": {},
   "outputs": [],
   "source": [
    "from tensorflow.keras.datasets import imdb\n",
    "(train_data, train_labels), (test_data, test_labels) = imdb.load_data(num_words=10000)"
   ]
  },
  {
   "cell_type": "code",
   "execution_count": 29,
   "metadata": {},
   "outputs": [
    {
     "name": "stdout",
     "output_type": "stream",
     "text": [
      "Data shape = (25000,)\n",
      "Data sample = [1, 14, 22, 16, 43, 530, 973, 1622, 1385, 65, 458, 4468, 66, 3941, 4, 173, 36, 256, 5, 25, 100, 43, 838, 112, 50, 670, 2, 9, 35, 480, 284, 5, 150, 4, 172, 112, 167, 2, 336, 385, 39, 4, 172, 4536, 1111, 17, 546, 38, 13, 447, 4, 192, 50, 16, 6, 147, 2025, 19, 14, 22, 4, 1920, 4613, 469, 4, 22, 71, 87, 12, 16, 43, 530, 38, 76, 15, 13, 1247, 4, 22, 17, 515, 17, 12, 16, 626, 18, 2, 5, 62, 386, 12, 8, 316, 8, 106, 5, 4, 2223, 5244, 16, 480, 66, 3785, 33, 4, 130, 12, 16, 38, 619, 5, 25, 124, 51, 36, 135, 48, 25, 1415, 33, 6, 22, 12, 215, 28, 77, 52, 5, 14, 407, 16, 82, 2, 8, 4, 107, 117, 5952, 15, 256, 4, 2, 7, 3766, 5, 723, 36, 71, 43, 530, 476, 26, 400, 317, 46, 7, 4, 2, 1029, 13, 104, 88, 4, 381, 15, 297, 98, 32, 2071, 56, 26, 141, 6, 194, 7486, 18, 4, 226, 22, 21, 134, 476, 26, 480, 5, 144, 30, 5535, 18, 51, 36, 28, 224, 92, 25, 104, 4, 226, 65, 16, 38, 1334, 88, 12, 16, 283, 5, 16, 4472, 113, 103, 32, 15, 16, 5345, 19, 178, 32], size of this sample = 218 words\n",
      "Label sample = 1\n",
      "Max_review_length = 9999\n"
     ]
    }
   ],
   "source": [
    "print(f\"Data shape = {train_data.shape}\")\n",
    "print(f\"Data sample = {train_data[0]}, size of this sample = {len(train_data[0])} words\")\n",
    "print(f\"Label sample = {train_labels[0]}\")\n",
    "print(f\"Max_review_length = {max([max(sequence) for sequence in train_data])}\")"
   ]
  },
  {
   "cell_type": "code",
   "execution_count": 30,
   "metadata": {},
   "outputs": [],
   "source": [
    "# Get the actual review words from the integer indices.\n",
    "\n",
    "word_dict = imdb.get_word_index()\n",
    "reverse_word_index = dict((value, key) for (key, value) in word_dict.items())\n",
    "def get_review_words(review_idx):\n",
    "    return \" \".join([reverse_word_index.get(i-3, \"?\") for i in train_data[review_idx]])"
   ]
  },
  {
   "cell_type": "code",
   "execution_count": 31,
   "metadata": {},
   "outputs": [
    {
     "data": {
      "text/plain": [
       "\"? this film was just brilliant casting location scenery story direction everyone's really suited the part they played and you could just imagine being there robert ? is an amazing actor and now the same being director ? father came from the same scottish island as myself so i loved the fact there was a real connection with this film the witty remarks throughout the film were great it was just brilliant so much that i bought the film as soon as it was released for ? and would recommend it to everyone to watch and the fly fishing was amazing really cried at the end it was so sad and you know what they say if you cry at a film it must have been good and this definitely was also ? to the two little boy's that played the ? of norman and paul they were just brilliant children are often left out of the ? list i think because the stars that play them all grown up are such a big profile for the whole film but these children are amazing and should be praised for what they have done don't you think the whole story was so lovely because it was true and was someone's life after all that was shared with us all\""
      ]
     },
     "execution_count": 31,
     "metadata": {},
     "output_type": "execute_result"
    }
   ],
   "source": [
    "get_review_words(0)"
   ]
  },
  {
   "cell_type": "code",
   "execution_count": 32,
   "metadata": {},
   "outputs": [],
   "source": [
    "# Vectorizing the data so a neural network can understand it. THat means converting\n",
    "# everything to float32 values, and in this case, having a fixed input length for every \n",
    "# data sample. \n",
    "\n",
    "import numpy as np\n",
    "\n",
    "def vectorize_data(sequences, vector_size=10000):\n",
    "    vectorized = np.zeros((len(sequences), vector_size))\n",
    "    for row_idx, sequence in enumerate(sequences):\n",
    "        for word_idx in sequence:\n",
    "            vectorized[row_idx, word_idx] = 1\n",
    "    return vectorized"
   ]
  },
  {
   "cell_type": "code",
   "execution_count": 33,
   "metadata": {},
   "outputs": [],
   "source": [
    "x_train = vectorize_data(train_data)\n",
    "x_test = vectorize_data(test_data)\n",
    "y_train = np.asarray(train_labels).astype(np.float32)\n",
    "y_test = np.asarray(test_labels).astype(np.float32)"
   ]
  },
  {
   "cell_type": "code",
   "execution_count": 34,
   "metadata": {},
   "outputs": [
    {
     "name": "stdout",
     "output_type": "stream",
     "text": [
      "[0. 1. 1. ... 0. 0. 0.]\n",
      "1.0\n"
     ]
    }
   ],
   "source": [
    "print(x_train[0])\n",
    "print(y_train[0])"
   ]
  },
  {
   "cell_type": "code",
   "execution_count": 35,
   "metadata": {},
   "outputs": [],
   "source": [
    "indices_permutation = np.random.permutation(len(x_train))\n",
    "shuffled_inputs = x_train[indices_permutation]\n",
    "shuffled_targets = y_train[indices_permutation]"
   ]
  },
  {
   "cell_type": "code",
   "execution_count": 36,
   "metadata": {},
   "outputs": [],
   "source": [
    "# Train - Validation split\n",
    "x_val = shuffled_inputs[:10000]\n",
    "partial_x_train = shuffled_inputs[10000:]\n",
    "y_val = shuffled_targets[:10000]\n",
    "partial_y_train = shuffled_targets[10000:]"
   ]
  },
  {
   "cell_type": "code",
   "execution_count": 48,
   "metadata": {},
   "outputs": [],
   "source": [
    "# Building the model\n",
    "\n",
    "from tensorflow import keras\n",
    "from keras import layers\n",
    "\n",
    "movie_review_model = keras.Sequential([\n",
    "    layers.Dense(32, activation=keras.activations.relu),\n",
    "    # layers.Dense(4, activation=keras.activations.relu),\n",
    "    # layers.Dense(16, activation=keras.activations.relu),\n",
    "    layers.Dense(1, activation=keras.activations.sigmoid)\n",
    "])\n",
    "\n",
    "# movie_review_model.compile(optimizer=keras.optimizers.RMSprop,\n",
    "#                             loss=keras.losses.binary_crossentropy,\n",
    "#                             metrics=[keras.metrics.Accuracy])\n",
    "\n",
    "movie_review_model.compile(optimizer=keras.optimizers.RMSprop(learning_rate=0.001),\n",
    "            #   loss=\"binary_crossentropy\",\n",
    "              loss=keras.losses.binary_crossentropy,\n",
    "              metrics=[\"accuracy\"])\n",
    "                        "
   ]
  },
  {
   "cell_type": "code",
   "execution_count": 38,
   "metadata": {},
   "outputs": [
    {
     "name": "stdout",
     "output_type": "stream",
     "text": [
      "Epoch 1/20\n",
      " 6/30 [=====>........................] - ETA: 0s - loss: 0.6364 - accuracy: 0.6087"
     ]
    },
    {
     "name": "stderr",
     "output_type": "stream",
     "text": [
      "2022-03-04 09:01:38.687309: I tensorflow/core/grappler/optimizers/custom_graph_optimizer_registry.cc:113] Plugin optimizer for device_type GPU is enabled.\n"
     ]
    },
    {
     "name": "stdout",
     "output_type": "stream",
     "text": [
      "30/30 [==============================] - 1s 38ms/step - loss: 0.4819 - accuracy: 0.7815 - val_loss: 0.3510 - val_accuracy: 0.8817\n",
      "Epoch 2/20\n",
      " 1/30 [>.............................] - ETA: 0s - loss: 0.3202 - accuracy: 0.8984"
     ]
    },
    {
     "name": "stderr",
     "output_type": "stream",
     "text": [
      "2022-03-04 09:01:39.745891: I tensorflow/core/grappler/optimizers/custom_graph_optimizer_registry.cc:113] Plugin optimizer for device_type GPU is enabled.\n"
     ]
    },
    {
     "name": "stdout",
     "output_type": "stream",
     "text": [
      "30/30 [==============================] - 0s 16ms/step - loss: 0.2867 - accuracy: 0.9094 - val_loss: 0.3080 - val_accuracy: 0.8833\n",
      "Epoch 3/20\n",
      "30/30 [==============================] - 0s 16ms/step - loss: 0.2199 - accuracy: 0.9303 - val_loss: 0.2716 - val_accuracy: 0.8938\n",
      "Epoch 4/20\n",
      "30/30 [==============================] - 0s 15ms/step - loss: 0.1806 - accuracy: 0.9423 - val_loss: 0.2686 - val_accuracy: 0.8920\n",
      "Epoch 5/20\n",
      "30/30 [==============================] - 0s 15ms/step - loss: 0.1493 - accuracy: 0.9545 - val_loss: 0.2842 - val_accuracy: 0.8878\n",
      "Epoch 6/20\n",
      "30/30 [==============================] - 0s 16ms/step - loss: 0.1283 - accuracy: 0.9619 - val_loss: 0.2830 - val_accuracy: 0.8897\n",
      "Epoch 7/20\n",
      "30/30 [==============================] - 0s 15ms/step - loss: 0.1112 - accuracy: 0.9679 - val_loss: 0.2871 - val_accuracy: 0.8877\n",
      "Epoch 8/20\n",
      "30/30 [==============================] - 0s 16ms/step - loss: 0.0939 - accuracy: 0.9747 - val_loss: 0.3097 - val_accuracy: 0.8831\n",
      "Epoch 9/20\n",
      "30/30 [==============================] - 0s 15ms/step - loss: 0.0828 - accuracy: 0.9773 - val_loss: 0.3221 - val_accuracy: 0.8823\n",
      "Epoch 10/20\n",
      "30/30 [==============================] - 0s 15ms/step - loss: 0.0709 - accuracy: 0.9817 - val_loss: 0.3272 - val_accuracy: 0.8831\n",
      "Epoch 11/20\n",
      "30/30 [==============================] - 0s 15ms/step - loss: 0.0622 - accuracy: 0.9854 - val_loss: 0.3481 - val_accuracy: 0.8799\n",
      "Epoch 12/20\n",
      "30/30 [==============================] - 0s 15ms/step - loss: 0.0539 - accuracy: 0.9875 - val_loss: 0.3613 - val_accuracy: 0.8797\n",
      "Epoch 13/20\n",
      "30/30 [==============================] - 0s 15ms/step - loss: 0.0462 - accuracy: 0.9901 - val_loss: 0.3838 - val_accuracy: 0.8791\n",
      "Epoch 14/20\n",
      "30/30 [==============================] - 0s 15ms/step - loss: 0.0394 - accuracy: 0.9924 - val_loss: 0.4048 - val_accuracy: 0.8763\n",
      "Epoch 15/20\n",
      "30/30 [==============================] - 0s 16ms/step - loss: 0.0334 - accuracy: 0.9939 - val_loss: 0.4336 - val_accuracy: 0.8714\n",
      "Epoch 16/20\n",
      "30/30 [==============================] - 0s 15ms/step - loss: 0.0300 - accuracy: 0.9939 - val_loss: 0.4440 - val_accuracy: 0.8732\n",
      "Epoch 17/20\n",
      "30/30 [==============================] - 0s 15ms/step - loss: 0.0246 - accuracy: 0.9963 - val_loss: 0.4685 - val_accuracy: 0.8708\n",
      "Epoch 18/20\n",
      "30/30 [==============================] - 0s 16ms/step - loss: 0.0216 - accuracy: 0.9969 - val_loss: 0.4988 - val_accuracy: 0.8669\n",
      "Epoch 19/20\n",
      "30/30 [==============================] - 0s 15ms/step - loss: 0.0183 - accuracy: 0.9979 - val_loss: 0.5186 - val_accuracy: 0.8668\n",
      "Epoch 20/20\n",
      "30/30 [==============================] - 0s 15ms/step - loss: 0.0156 - accuracy: 0.9982 - val_loss: 0.5413 - val_accuracy: 0.8676\n"
     ]
    }
   ],
   "source": [
    "history = movie_review_model.fit(partial_x_train,\n",
    "                    partial_y_train,\n",
    "                    epochs=20,\n",
    "                    batch_size=512,\n",
    "                    validation_data=(x_val, y_val))"
   ]
  },
  {
   "cell_type": "code",
   "execution_count": 39,
   "metadata": {},
   "outputs": [
    {
     "data": {
      "text/plain": [
       "dict_keys(['loss', 'accuracy', 'val_loss', 'val_accuracy'])"
      ]
     },
     "execution_count": 39,
     "metadata": {},
     "output_type": "execute_result"
    }
   ],
   "source": [
    "history_dict = history.history\n",
    "history_dict.keys()"
   ]
  },
  {
   "cell_type": "code",
   "execution_count": 40,
   "metadata": {},
   "outputs": [
    {
     "data": {
      "image/png": "[encoded data removed]",
      "text/plain": [
       "<Figure size 432x288 with 1 Axes>"
      ]
     },
     "metadata": {
      "needs_background": "light"
     },
     "output_type": "display_data"
    }
   ],
   "source": [
    "import matplotlib.pyplot as plt\n",
    "history_dict = history.history\n",
    "loss_values = history_dict[\"loss\"]\n",
    "val_loss_values = history_dict[\"val_loss\"]\n",
    "epochs = range(1, len(loss_values) + 1)\n",
    "plt.plot(epochs, loss_values, \"bo\", label=\"Training loss\")\n",
    "plt.plot(epochs, val_loss_values, \"b\", label=\"Validation loss\")\n",
    "plt.title(\"Training and validation loss\")\n",
    "plt.xlabel(\"Epochs\")\n",
    "plt.ylabel(\"Loss\")\n",
    "plt.legend()\n",
    "plt.show()"
   ]
  },
  {
   "cell_type": "code",
   "execution_count": 41,
   "metadata": {},
   "outputs": [
    {
     "data": {
      "image/png": "[encoded data removed]",
      "text/plain": [
       "<Figure size 432x288 with 1 Axes>"
      ]
     },
     "metadata": {
      "needs_background": "light"
     },
     "output_type": "display_data"
    }
   ],
   "source": [
    "# plt.clf()\n",
    "acc = history_dict[\"accuracy\"]\n",
    "val_acc = history_dict[\"val_accuracy\"]\n",
    "plt.plot(epochs, acc, \"bo\", label=\"Training acc\")\n",
    "plt.plot(epochs, val_acc, \"b\", label=\"Validation acc\")\n",
    "plt.title(\"Training and validation accuracy\")\n",
    "plt.xlabel(\"Epochs\")\n",
    "plt.ylabel(\"Accuracy\")\n",
    "plt.legend()\n",
    "plt.show()"
   ]
  },
  {
   "cell_type": "code",
   "execution_count": 47,
   "metadata": {},
   "outputs": [
    {
     "name": "stdout",
     "output_type": "stream",
     "text": [
      "782/782 [==============================] - 6s 7ms/step - loss: 0.8415 - accuracy: 0.8434\n"
     ]
    },
    {
     "data": {
      "text/plain": [
       "[0.8414945006370544, 0.8433600664138794]"
      ]
     },
     "execution_count": 47,
     "metadata": {},
     "output_type": "execute_result"
    }
   ],
   "source": [
    "results = movie_review_model.evaluate(x_test, y_test)\n",
    "results"
   ]
  },
  {
   "cell_type": "code",
   "execution_count": 43,
   "metadata": {},
   "outputs": [
    {
     "data": {
      "text/plain": [
       "[0.6207302212715149, 0.850640058517456]"
      ]
     },
     "execution_count": 43,
     "metadata": {},
     "output_type": "execute_result"
    }
   ],
   "source": []
  },
  {
   "cell_type": "code",
   "execution_count": 44,
   "metadata": {},
   "outputs": [],
   "source": [
    "# The first number, 0.29, is the test loss, and the second number, 0.88, is the test accuracy.\n",
    "# 3 layers: [0.764792263507843, 0.8493600487709045]\n",
    "# 2 layers: [0.531110942363739, 0.8519600629806519]\n",
    "# 4 layers: [0.8898702263832092, 0.8500800728797913]\n",
    "# 3 layers. base, diff 32,16,1 [0.8254880309104919, 0.8500000834465027]\n",
    "# 2 layers. base, diff 32, 1 [0.6107428669929504, 0.8531200289726257]\n",
    "# 2 layers. base, diff 64, 1 [0.712183952331543, 0.8508800268173218]\n",
    "# 3 layers. base, diff 32, 4, 1 [0.6724256873130798, 0.8529600501060486]\n",
    "\n",
    "# Selected 2 layers, base diff 32, 1. It has the lowest test loss, and highest test accuracy. [0.6107428669929504, 0.8531200289726257]\n",
    "# We will call this the 2 layer model. 2lm [0.6107428669929504, 0.8531200289726257]\n",
    "# 2lm + tanh instead of reLu in layer 1.   [0.8433620929718018, 0.8409200310707092]\n",
    "# 2lm + mse instead of bce. [0.12561532855033875, 0.8486800789833069] Interesting drop in test error. But is it measured the same way?\n",
    "# 2lm + relu + RMSProp (LR = 0.1) [1.0009647607803345, 0.8468000292778015]\n",
    "# 2lm + relu + RMSProp (LR = 0.001) [0.6408697962760925, 0.8476000428199768]\n",
    "\n",
    "#  [0.6129429936408997, 0.8525600433349609]"
   ]
  },
  {
   "cell_type": "code",
   "execution_count": 49,
   "metadata": {},
   "outputs": [
    {
     "name": "stdout",
     "output_type": "stream",
     "text": [
      "Epoch 1/3\n",
      " 6/30 [=====>........................] - ETA: 0s - loss: 0.6335 - accuracy: 0.6400"
     ]
    },
    {
     "name": "stderr",
     "output_type": "stream",
     "text": [
      "2022-03-04 09:10:21.430012: I tensorflow/core/grappler/optimizers/custom_graph_optimizer_registry.cc:113] Plugin optimizer for device_type GPU is enabled.\n"
     ]
    },
    {
     "name": "stdout",
     "output_type": "stream",
     "text": [
      "30/30 [==============================] - 1s 38ms/step - loss: 0.4815 - accuracy: 0.7923 - val_loss: 0.3496 - val_accuracy: 0.8807\n",
      "Epoch 2/3\n",
      " 1/30 [>.............................] - ETA: 0s - loss: 0.3090 - accuracy: 0.9180"
     ]
    },
    {
     "name": "stderr",
     "output_type": "stream",
     "text": [
      "2022-03-04 09:10:22.500613: I tensorflow/core/grappler/optimizers/custom_graph_optimizer_registry.cc:113] Plugin optimizer for device_type GPU is enabled.\n"
     ]
    },
    {
     "name": "stdout",
     "output_type": "stream",
     "text": [
      "30/30 [==============================] - 0s 17ms/step - loss: 0.2863 - accuracy: 0.9087 - val_loss: 0.2972 - val_accuracy: 0.8872\n",
      "Epoch 3/3\n",
      "30/30 [==============================] - 0s 15ms/step - loss: 0.2178 - accuracy: 0.9319 - val_loss: 0.2777 - val_accuracy: 0.8922\n",
      "782/782 [==============================] - 6s 7ms/step - loss: 0.3031 - accuracy: 0.8783\n"
     ]
    },
    {
     "data": {
      "text/plain": [
       "[0.30312463641166687, 0.8782800436019897]"
      ]
     },
     "execution_count": 49,
     "metadata": {},
     "output_type": "execute_result"
    }
   ],
   "source": [
    "history_3epochs = movie_review_model.fit(partial_x_train,\n",
    "                    partial_y_train,\n",
    "                    epochs=3,\n",
    "                    batch_size=512,\n",
    "                    validation_data=(x_val, y_val))\n",
    "results_3epochs = movie_review_model.evaluate(x_test, y_test)\n",
    "results_3epochs\n",
    "# MUCH better results when overfitting is prevented. [0.30312463641166687, 0.8782800436019897]"
   ]
  },
  {
   "cell_type": "code",
   "execution_count": null,
   "metadata": {},
   "outputs": [],
   "source": []
  },
  {
   "cell_type": "code",
   "execution_count": null,
   "metadata": {},
   "outputs": [],
   "source": []
  }
 ],
 "metadata": {
  "interpreter": {
   "hash": "339907dc50ae7c95a994a590d2e86c30ce6d69b18743aa1a1a315b8d80cedf51"
  },
  "kernelspec": {
   "display_name": "Python 3.8.12 ('tensorflow_base')",
   "language": "python",
   "name": "python3"
  },
  "language_info": {
   "codemirror_mode": {
    "name": "ipython",
    "version": 3
   },
   "file_extension": ".py",
   "mimetype": "text/x-python",
   "name": "python",
   "nbconvert_exporter": "python",
   "pygments_lexer": "ipython3",
   "version": "3.8.12"
  },
  "orig_nbformat": 4
 },
 "nbformat": 4,
 "nbformat_minor": 2
}
